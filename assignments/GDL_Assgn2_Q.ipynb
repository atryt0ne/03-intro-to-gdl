{
 "cells": [
  {
   "attachments": {},
   "cell_type": "markdown",
   "metadata": {},
   "source": [
    "***\n",
    "***\n",
    "\n",
    "# Assignment 2 - Extend My Playlist - 50 points\n",
    "\n",
    "- This assignment will see you use a dataset of Spotify playlists, and build a GNN to build a playlist-track RecSys (Recommendation System). We'll use a type of layer called LightGCN for this task.\n",
    "- You will almost certainly need a GPU for this assignment. The free tier GPUs of colab should suffice. So write your code with that in mind. While I was able to train it pretty well even on a non-GPU system, do note that it might take a lot longer, and the analysis part would require you to run the model multiple times\n",
    "- The dataset you have been shared is a small part of a much larger dataset so the free tier colab GPU can handle it. Do **NOT** share the dataset with other people. We'll release details about the dataset after the assignment is over if you would like access to the full dataset.\n",
    "\n",
    "\n",
    "## Marking Breakup\n",
    "1. Code (40 points)\n",
    "2. Model Results on Hidden Test set (10 points)\n",
    "3. You will receive a bonus 10 points for being able to provide a visualisation of the embeddings your model learned. Hints for this are at the end of the assignment.\n",
    "4. You will receive a bonus 5 points for well-documented code. So use your comments well, and remember to follow PEP guidelines.\n",
    "\n",
    "\n",
    "### Details\n",
    "- You may attempt this assignment **alone, or in teams of 2 or 3**. This assignment is heavier, yes, but should still be doable alone. The deadline is EOD 24/06/23.\n",
    "- We have given a weak boilerplate code for you  with instructions. Following the instructions will be the easiest way to get the most grades. \n",
    "- This time, plagiarism across groups will mean that the assignment submission becomes null and void. No marks will be given to either group.\n",
    "- We are not testing your literature review skils here. The dataset, modules to use, layers you'll need are all given below. Don't waste time hunting for better ones, the combination we have picked out is already very powerful.\n",
    "- *30 points* are for the straight code work on your model (Section 1 and 2). The last 10 points are for the codework in training visualisation (Section 3).\n",
    "- *10 points* are for the results of your model on a hidden test that is not being shared with you. You do not need to adjust your code in anyway, we will simply change the test set you have in your code to a test set we have.\n",
    "- There's *10 points* for the visualisation of the training and analysis with different hyperparameters. This is weighted lesser than the main code work, but is far easier to implement. However, no marks will be given for this section if your model doesn't actually train at all.\n",
    "- There's a *bonus 10 points* for embedding visualisation. This involves plotting the learnings of your model over epoch using UMAP Dimensionality Reduction and the Animation Submodule of Matplotlib. We stop here, but if you manage to get this done, you could go one step further to actually see what happens to datapoints in your model. Details of this section are given in the section itself.\n",
    "- You get *bonus 5 points* if I find your codework to be very neat and well-documented. Naturally you need to atleast finish sections 1-3 to be eligible for these bonus points. Wouldn't be very helpful if you just emptied the notebook, printed 'Hello World!' with exquisite documentation and then asked me for 5 bonus points, would it?\n",
    "- You will have to submit the notebook (or a link to it) in a Google Form. **Rename your notebook to `<Your_Name>_A2.ipynb` before submitting.**\n",
    "\n",
    "### Boilerplate - \n",
    "0. [Setting up - Installation and Data Loading](#section-0---installation-and-data-loading-0-points)\n",
    "1. [Data preprocessing (15 points)](#section-1---data-preprocessing-graded-sections-start-here)\n",
    "2. [Training and Testing (15 points)](#section-2-training-and-testing)\n",
    "3. [Training Visualisation (10 points)](#section-3---training-visualisation)\n",
    "4. [(Bonus) Embedding Visualisation](#section-4---bonus-embedding-visualisation)\n",
    "\n",
    "### What score to expect?\n",
    "- Model that was not trained (15 points)\n",
    "- Model that has been trained (30 points)\n",
    "- Visualising the training of the model with various hyperparameters (40 points)\n",
    "- Top-tier performance on our test set (50 points)\n",
    "- Top-tier performance with embedding visualisation and documentation (65 points)\n",
    "\n",
    "## Tentative Pass Criteria\n",
    "**30 points** are needed to pass this assignment. Which means your model needs to atleast train. \n",
    "\n",
    "Realistically, good performance on your test set should also translate to pretty decent performance on our test set, so I expect most people to cross from the 30s to the 45s pretty easily."
   ]
  },
  {
   "attachments": {},
   "cell_type": "markdown",
   "metadata": {},
   "source": [
    "***\n",
    "\n",
    "# Code Starts Here\n"
   ]
  },
  {
   "attachments": {},
   "cell_type": "markdown",
   "metadata": {},
   "source": [
    "\n",
    "## Section 0 - Installation and Data Loading (0 points)\n",
    "\n",
    "This section is already done for you and you do not need to change anything here. Go through it to understand what kind of data is available and what modules are pre-installed for you."
   ]
  },
  {
   "attachments": {},
   "cell_type": "markdown",
   "metadata": {},
   "source": [
    "### Installation of Libraries"
   ]
  },
  {
   "cell_type": "code",
   "execution_count": null,
   "metadata": {},
   "outputs": [],
   "source": [
    "# # If you are running this code locally, remember to comment this section after you have installed the code.\n",
    "# !pip install torch-scatter -f https://data.pyg.org/whl/torch-1.13.1+cu116.html\n",
    "# !pip install torch-sparse -f https://data.pyg.org/whl/torch-1.13.1+cu116.html\n",
    "# !pip install torch-geometric\n",
    "# !pip install umap-learn"
   ]
  },
  {
   "attachments": {},
   "cell_type": "markdown",
   "metadata": {},
   "source": [
    "### General imports"
   ]
  },
  {
   "cell_type": "code",
   "execution_count": null,
   "metadata": {},
   "outputs": [],
   "source": [
    "import json\n",
    "import pprint\n",
    "from pathlib import Path as Data_Path\n",
    "import os \n",
    "from os.path import isfile, join\n",
    "import pickle\n",
    "import random\n",
    "\n",
    "import numpy as np\n",
    "import networkx as nx\n",
    "import pandas as pd\n",
    "from sklearn.metrics import f1_score, roc_auc_score\n",
    "import matplotlib.pyplot as plt\n",
    "%matplotlib inline\n",
    "\n",
    "from tqdm.notebook import tqdm"
   ]
  },
  {
   "attachments": {},
   "cell_type": "markdown",
   "metadata": {},
   "source": [
    "### ML imports"
   ]
  },
  {
   "cell_type": "code",
   "execution_count": null,
   "metadata": {},
   "outputs": [],
   "source": [
    "# Import relevant ML libraries \n",
    "from typing import Optional, Union\n",
    "\n",
    "import torch \n",
    "from torch import Tensor\n",
    "import torch.nn as nn\n",
    "from torch.nn import Embedding, ModuleList, Linear\n",
    "import torch.nn.functional as F\n",
    "\n",
    "import torch_geometric\n",
    "import torch_geometric.nn as pyg_nn\n",
    "from torch_geometric.data import Data\n",
    "from torch_geometric.transforms import RandomLinkSplit\n",
    "from torch.nn.modules.loss import _Loss\n",
    "\n",
    "from torch_geometric.nn.conv import LGConv\n",
    "from torch_geometric.typing import Adj, OptTensor, SparseTensor\n",
    "\n",
    "print(f\"Torch version: {torch.__version__}; Torch-cuda version: {torch.version.cuda};\\\n",
    "         Torch Geometric version: {torch_geometric.__version__}.\")"
   ]
  },
  {
   "attachments": {},
   "cell_type": "markdown",
   "metadata": {},
   "source": [
    "### Seeding"
   ]
  },
  {
   "cell_type": "code",
   "execution_count": null,
   "metadata": {},
   "outputs": [],
   "source": [
    "seed = 42\n",
    "torch.manual_seed(seed)\n",
    "np.random.seed(seed)\n",
    "random.seed(seed)"
   ]
  },
  {
   "attachments": {},
   "cell_type": "markdown",
   "metadata": {},
   "source": [
    "### Useful Classes\n",
    "I am creating some classes that you will find useful."
   ]
  },
  {
   "cell_type": "code",
   "execution_count": null,
   "metadata": {},
   "outputs": [],
   "source": [
    "\"\"\"\n",
    "The original data was stored in JSON files, which contain playlists, which themselves contain tracks.\n",
    "Thus, we define three classes: \n",
    "  Track    : contains information for a specific track (its id, name, etc.)\n",
    "  Playlist : contains information for a specific playlist (its id, name, etc. as well as a list of Tracks)\n",
    "  JSONFile : contains the loaded json file and stores a dictionary of all of the Playlists \n",
    "\n",
    "Note: If you want to use Artist info, you may want to create an Artist class\n",
    "\"\"\"\n",
    "\n",
    "class Track: \n",
    "  \"\"\" \n",
    "  Simple class for a track, containing its attributes: \n",
    "    1. URI (a unique id)\n",
    "    2. Name\n",
    "    3. Artist info (URI and name)\n",
    "    4. Parent playlist\n",
    "  \"\"\"\n",
    "  \n",
    "  def __init__(self, track_dict, playlist):\n",
    "    self.uri = track_dict[\"track_uri\"]\n",
    "    self.name = track_dict[\"track_name\"]\n",
    "    self.artist_uri = track_dict[\"artist_uri\"]\n",
    "    self.artist_name = track_dict[\"artist_name\"]\n",
    "    self.playlist = playlist\n",
    "  \n",
    "  def __str__(self):\n",
    "    return f\"Track {self.uri} called {self.name} by {self.artist_uri} ({self.artist_name}) in playlist {self.playlist}.\"\n",
    "  \n",
    "  def __repr__(self):\n",
    "    return f\"Track {self.uri}\"\n",
    "\n",
    "class Playlist: \n",
    "  \"\"\" \n",
    "  Simple class for a playlist, containing its attributes: \n",
    "    1. Name (playlist and its associated index (the data is a subset, so every index hasn't been shared with you))\n",
    "    2. Title (playlist title in the Spotify dataset)\n",
    "    3. Loaded dictionary from the raw json for the playlist\n",
    "    4. Dictionary of tracks (track_uri : Track), populated by .load_tracks()\n",
    "    5. List of artists uris\n",
    "  \"\"\"\n",
    "\n",
    "  def __init__(self, json_data, index):\n",
    "\n",
    "    self.name = f\"playlist_{index}\"\n",
    "    self.title = json_data[\"name\"]\n",
    "    self.data = json_data\n",
    "\n",
    "    self.tracks = {}\n",
    "    self.artists = []\n",
    "  \n",
    "  def load_tracks(self):\n",
    "    \"\"\" Call this function to load all of the tracks in the json data for the playlist.\"\"\"\n",
    "\n",
    "    tracks_list = self.data[\"tracks\"]\n",
    "    self.tracks = {x[\"track_uri\"] : Track(x, self.name) for x in tracks_list}\n",
    "    self.artists = [x[\"artist_uri\"] for x in tracks_list]\n",
    "\n",
    "  def __str__(self):\n",
    "    return f\"Playlist {self.name} with {len(self.tracks)} tracks loaded.\"\n",
    "  \n",
    "  def __repr__(self):\n",
    "    return f\"Playlist {self.name}\"\n",
    "\n",
    "class JSONFile: \n",
    "  \"\"\" \n",
    "  Simple class for a JSON file, containing its attributes: \n",
    "    1. File Name \n",
    "    2. Index to begin numbering playlists at \n",
    "    3. Loaded dictionary from the raw json for the full file\n",
    "    4. Dictionary of playlists (name : Playlist), populated by .process_file()\n",
    "  \"\"\"\n",
    "\n",
    "  def __init__(self, data_path, file_name, start_index):\n",
    "\n",
    "    self.file_name = file_name \n",
    "    self.start_index = start_index\n",
    "\n",
    "    with open(join(data_path, file_name)) as json_file:\n",
    "      json_data = json.load(json_file)\n",
    "    self.data = json_data \n",
    "\n",
    "    self.playlists = {}\n",
    "\n",
    "  def process_file(self):\n",
    "    \"\"\" Call this function to load all of the playlists in the json data.\"\"\"\n",
    "\n",
    "    for i, playlist_json in enumerate(self.data[\"playlists\"]):\n",
    "      playlist = Playlist(playlist_json, self.start_index + i)\n",
    "      playlist.load_tracks()\n",
    "      self.playlists[playlist.name] = playlist\n",
    "\n",
    "  def __str__(self):\n",
    "    return f\"JSON {self.file_name} has {len(self.playlists)} playlists loaded.\"\n",
    "  \n",
    "  def __repr__(self):\n",
    "    return self.file_name\n"
   ]
  },
  {
   "attachments": {},
   "cell_type": "markdown",
   "metadata": {},
   "source": [
    "### Loading Data"
   ]
  },
  {
   "attachments": {},
   "cell_type": "markdown",
   "metadata": {},
   "source": [
    "- `playlist_dat.pt` is a file with a PyG Data object. This has a graph with all the data you'll need.\n",
    "- A simple `torch.load()` command will put this in your memory, as shown below. Feel free to rename this variable.\n",
    "- `playlists_idx.dat` and `tracks_idx.dat` are just pickle objects with list of node ids which are playlists and tracks "
   ]
  },
  {
   "attachments": {
    "image.png": {
     "image/png": "[encoded data removed]"
    }
   },
   "cell_type": "markdown",
   "metadata": {},
   "source": [
    "This is what (a small subset of) your graph looks like, blue represents playlists, and red represents tracks\n",
    "![image.png](attachment:image.png)"
   ]
  },
  {
   "cell_type": "code",
   "execution_count": null,
   "metadata": {},
   "outputs": [],
   "source": [
    "graph_data = torch.load('playlist_data.pt')"
   ]
  },
  {
   "cell_type": "code",
   "execution_count": null,
   "metadata": {},
   "outputs": [],
   "source": [
    "import pickle\n",
    "with open(\"playlists_idx.dat\",\"rb\") as f:\n",
    "    playlists_idx = pickle.load(f)\n",
    "\n",
    "with open(\"tracks_idx.dat\",\"rb\") as f:\n",
    "    tracks_idx = pickle.load(f)\n",
    "n_playlists = len(playlists_idx)\n",
    "n_tracks = len(tracks_idx)"
   ]
  },
  {
   "attachments": {},
   "cell_type": "markdown",
   "metadata": {},
   "source": [
    "### Try out some EDA\n",
    "\n",
    "What does this graph look like? What are the number of nodes? What kind of information is available to you here? Do some EDA and get comfortable. This part won't be graded, but I doubt you will be able to progress much without understanding your data"
   ]
  },
  {
   "cell_type": "code",
   "execution_count": null,
   "metadata": {},
   "outputs": [],
   "source": []
  },
  {
   "cell_type": "code",
   "execution_count": null,
   "metadata": {},
   "outputs": [],
   "source": []
  },
  {
   "cell_type": "code",
   "execution_count": null,
   "metadata": {},
   "outputs": [],
   "source": []
  },
  {
   "attachments": {},
   "cell_type": "markdown",
   "metadata": {},
   "source": [
    "## Section 1 - Data Preprocessing (Graded Sections start here)"
   ]
  },
  {
   "attachments": {},
   "cell_type": "markdown",
   "metadata": {},
   "source": [
    "Split the data into train-test-split sets."
   ]
  },
  {
   "cell_type": "code",
   "execution_count": null,
   "metadata": {},
   "outputs": [],
   "source": [
    "train_split, val_split, test_split = None,None,None"
   ]
  },
  {
   "attachments": {},
   "cell_type": "markdown",
   "metadata": {},
   "source": [
    "The dataset has data in `float32` format, but training will require you to use it in `torch.int64` (Just trust me bro.)\n",
    "Just a reminder - \n",
    "1. Edge Index - Message Passing Edges\n",
    "2. Edge Label Index - Supervision Edges\n",
    "\n",
    "And if you don't understand what I'm saying, you should go back and see some lectures on link prediction"
   ]
  },
  {
   "cell_type": "code",
   "execution_count": null,
   "metadata": {},
   "outputs": [],
   "source": [
    "#######################################################################\n",
    "# Convert the edge_indexes and edge_label_indexes to integer type data.\n",
    "# Some code here #\n",
    "#######################################################################"
   ]
  },
  {
   "cell_type": "code",
   "execution_count": null,
   "metadata": {},
   "outputs": [],
   "source": [
    "print(f\"Train set has {train_split.edge_label_index.shape[1]} positives supervision edges\")\n",
    "print(f\"Validation set has {val_split.edge_label_index.shape[1]} positive supervision edges\")\n",
    "print(f\"Test set has {test_split.edge_label_index.shape[1]} positive supervision edges\")\n",
    "\n",
    "print(f\"Train set has {train_split.edge_index.shape[1]} message passing edges\")\n",
    "print(f\"Validation set has {val_split.edge_index.shape[1]} message passing edges\")\n",
    "print(f\"Test set has {test_split.edge_index.shape[1]} message passing edges\")"
   ]
  },
  {
   "attachments": {},
   "cell_type": "markdown",
   "metadata": {},
   "source": [
    "### The BPR Loss\n",
    "\n",
    "You'll need a new kind of Loss function for this task, so here's a class for implementing BPR, Bayesian Personalised Ranking Loss. We've implemented this for you. You can change function names and stuff, however you are forbidden from changing the mathematical formula -\n",
    "\n",
    "\\begin{equation*}\n",
    "    \\text{BPR Loss}(i) = \\frac{1}{|\\mathcal{E}(i)|} \\underset{{(i, j_{+}) \\in \\mathcal{E}(i)}}{\\sum} \\log \\sigma \\left( \\text{score}(i, j_+) - \\text{score}(i, j_-) \\right)\n",
    "\\end{equation*}"
   ]
  },
  {
   "cell_type": "code",
   "execution_count": null,
   "metadata": {},
   "outputs": [],
   "source": [
    "class BPRLoss(_Loss):\n",
    "    r\"\"\"The Bayesian Personalized Ranking (BPR) loss.\n",
    "\n",
    "    The BPR loss is a pairwise loss that encourages the prediction of an\n",
    "    observed entry to be higher than its unobserved counterparts\n",
    "    (see `here <https://arxiv.org/abs/2002.02126>`__).\n",
    "\n",
    "    .. math::\n",
    "        L_{\\text{BPR}} = - \\sum_{u=1}^{M} \\sum_{i \\in \\mathcal{N}_u}\n",
    "        \\sum_{j \\not\\in \\mathcal{N}_u} \\ln \\sigma(\\hat{y}_{ui} - \\hat{y}_{uj})\n",
    "        + \\lambda \\vert\\vert \\textbf{x}^{(0)} \\vert\\vert^2\n",
    "\n",
    "    where :math:`lambda` controls the :math:`L_2` regularization strength.\n",
    "    We compute the mean BPR loss for simplicity.\n",
    "\n",
    "    Args:\n",
    "        lambda_reg (float, optional): The :math:`L_2` regularization strength\n",
    "            (default: 0).\n",
    "        **kwargs (optional): Additional arguments of the underlying\n",
    "            :class:`torch.nn.modules.loss._Loss` class.\n",
    "    \"\"\"\n",
    "    __constants__ = ['lambda_reg']\n",
    "    lambda_reg: float\n",
    "\n",
    "    def __init__(self, lambda_reg: float = 0, **kwargs):\n",
    "        super().__init__(None, None, \"sum\", **kwargs)\n",
    "        self.lambda_reg = lambda_reg\n",
    "\n",
    "    def forward(self, positives: Tensor, negatives: Tensor,\n",
    "                parameters: Tensor = None) -> Tensor:\n",
    "        r\"\"\"Compute the mean Bayesian Personalized Ranking (BPR) loss.\n",
    "\n",
    "        .. note::\n",
    "\n",
    "            The i-th entry in the :obj:`positives` vector and i-th entry\n",
    "            in the :obj:`negatives` entry should correspond to the same\n",
    "            entity (*.e.g*, user), as the BPR is a personalized ranking loss.\n",
    "\n",
    "        Args:\n",
    "            positives (Tensor): The vector of positive-pair rankings.\n",
    "            negatives (Tensor): The vector of negative-pair rankings.\n",
    "            parameters (Tensor, optional): The tensor of parameters which\n",
    "                should be used for :math:`L_2` regularization\n",
    "                (default: :obj:`None`).\n",
    "        \"\"\"\n",
    "        n_pairs = positives.size(0)\n",
    "        log_prob = F.logsigmoid(positives - negatives).sum()\n",
    "        regularization = 0\n",
    "\n",
    "        if self.lambda_reg != 0:\n",
    "            regularization = self.lambda_reg * parameters.norm(p=2).pow(2) \n",
    "\n",
    "        return (-log_prob + regularization) / n_pairs"
   ]
  },
  {
   "attachments": {},
   "cell_type": "markdown",
   "metadata": {},
   "source": [
    "### The GCN class\n",
    "As mentioned, the primary model type we need here is a GCN. Use this boilerplate code to define your GCN class. This is merely a template, you can change it up if you think something else would be more intuitive. Some of the functions are defined to make this a little easier\n",
    "\n",
    "As for the type of layer you need to use - It's the [LGConv](https://arxiv.org/abs/2002.02126) layer. PyG already offers this type of layer. [see here](https://pytorch-geometric.readthedocs.io/en/latest/generated/torch_geometric.nn.conv.LGConv.html#torch_geometric.nn.conv.LGConv).\n",
    "\n",
    "There's other types of layers available, and this boilerplate code here should make it pretty easy to call upon many different PyG layers. This however is not necessary to have a successful model or for your score."
   ]
  },
  {
   "cell_type": "code",
   "execution_count": null,
   "metadata": {},
   "outputs": [],
   "source": [
    "class GCN(torch.nn.Module):\n",
    "    \"\"\"\n",
    "      Here we adapt the LightGCN model from Torch Geometric for our purposes.\n",
    "      We'll be using the LGCN  \n",
    "\n",
    "    \"\"\"\n",
    "\n",
    "    def __init__(\n",
    "        self,\n",
    "        num_nodes: int,\n",
    "        embedding_dim: int,\n",
    "        num_layers: int,\n",
    "        alpha: Optional[Union[float, Tensor]] = None,\n",
    "        alpha_learnable = False,\n",
    "        conv_layer = \"LGC\",\n",
    "        name = None,\n",
    "        **kwargs,\n",
    "    ):\n",
    "        super().__init__()\n",
    "        alpha_string = \"alpha\" if alpha_learnable else \"\"\n",
    "        self.name = f\"LGCN_{conv_layer}_{num_layers}_e{embedding_dim}_nodes{num_nodes}_{alpha_string}\"\n",
    "        self.num_nodes = num_nodes\n",
    "        self.embedding_dim = embedding_dim\n",
    "        self.num_layers = num_layers\n",
    "\n",
    "        if alpha_learnable == True:\n",
    "          alpha_vals = torch.rand(num_layers+1)\n",
    "          alpha = nn.Parameter(alpha_vals/torch.sum(alpha_vals))\n",
    "          print(f\"Alpha learnable, initialized to: {alpha.softmax(dim=-1)}\")\n",
    "        else:\n",
    "          if alpha is None:\n",
    "              alpha = 1. / (num_layers + 1)\n",
    "\n",
    "          if isinstance(alpha, Tensor):\n",
    "              assert alpha.size(0) == num_layers + 1\n",
    "          else:\n",
    "              alpha = torch.tensor([alpha] * (num_layers + 1))\n",
    "\n",
    "        self.register_buffer('alpha', alpha)\n",
    "\n",
    "        self.embedding = Embedding(num_nodes, embedding_dim)\n",
    "\n",
    "        # initialize convolutional layers \n",
    "        self.conv_layer = conv_layer\n",
    "        if conv_layer == \"LGC\":  \n",
    "          self.convs = ModuleList([LGConv(**kwargs) for _ in range(num_layers)])\n",
    "\n",
    "        self.reset_parameters()\n",
    "\n",
    "    def reset_parameters(self):\n",
    "        # Reset the parameters of all your layers\n",
    "        pass\n",
    "        \n",
    "\n",
    "    def get_embedding(self, edge_index: Adj) -> Tensor:\n",
    "        # Self explanatory\n",
    "        return None\n",
    "\n",
    "    def initialize_embeddings(self, data):\n",
    "        # initialize with the data node features\n",
    "        pass\n",
    "\n",
    "\n",
    "    def forward(self, edge_index: Adj,\n",
    "                edge_label_index: OptTensor = None) -> Tensor:\n",
    "        # Implement the forward pass\n",
    "        return None\n",
    "\n",
    "    def predict_link(self, edge_index: Adj, edge_label_index: OptTensor = None,\n",
    "                     prob: bool = False) -> Tensor:\n",
    "        # Make a prediction. I hope you remember we want to deal with integers not floats \n",
    "        return None\n",
    "    \n",
    "    def predict_link_embedding(self, embed: Adj, edge_label_index: Adj) -> Tensor: \n",
    "        return None\n",
    "\n",
    "\n",
    "    def recommend(self, edge_index: Adj, src_index: OptTensor = None,\n",
    "                  dst_index: OptTensor = None, k: int = 1) -> Tensor:\n",
    "        # This is what you'll use for inference\n",
    "        return None\n",
    "\n",
    "\n",
    "    def link_pred_loss(self, pred: Tensor, edge_label: Tensor,\n",
    "                       **kwargs) -> Tensor:\n",
    "        loss_fn = torch.nn.BCEWithLogitsLoss(**kwargs)\n",
    "        return loss_fn(pred, edge_label.to(pred.dtype))\n",
    "\n",
    "\n",
    "    def recommendation_loss(self, pos_edge_rank: Tensor, neg_edge_rank: Tensor,\n",
    "                            lambda_reg: float = 1e-4, **kwargs) -> Tensor:\n",
    "        r\"\"\"Computes the model loss for a ranking objective via the Bayesian\n",
    "        Personalized Ranking (BPR) loss.\"\"\"\n",
    "        # The BPRLoss is defined for you in the next cell.\n",
    "        loss_fn = BPRLoss(lambda_reg, **kwargs)\n",
    "        return loss_fn(pos_edge_rank, neg_edge_rank, self.embedding.weight)\n",
    "    \n",
    "    def bpr_loss(self, pos_scores, neg_scores):\n",
    "      return - torch.log(torch.sigmoid(pos_scores - neg_scores)).mean()\n",
    "\n",
    "    def __repr__(self) -> str:\n",
    "        # Used to get a summary of your model features\n",
    "        return (f'{self.__class__.__name__}({self.num_nodes}, '\n",
    "                f'{self.embedding_dim}, num_layers={self.num_layers})')\n"
   ]
  },
  {
   "attachments": {},
   "cell_type": "markdown",
   "metadata": {},
   "source": [
    "### Negative Sampling\n",
    "\n",
    "If you only trained the model to minimise loss however, your model would perform pretty poorly. Why so? Assign every node the same embedding, and you would technically be minimizing the loss. The solution to that usually involves negative sampling, paying attention to the nodes that do not have an edge between them and hence must not be similar. \n",
    "Here are some negative sampling approaches for you to try out. We've done the first one, you do the rest (yes this is graded)- \n",
    "1. Random, no positive check: for each positive edge coming from a playlist $p_i$, randomly draw a track $t_j$ from the full set of track nodes such that ($p_i$, $t_j$) is the negative edge. For computational efficiency, we don't check if ($p_i$, $t_j$) is actually a negative edge, though probabilistically it is very likely.\n",
    "2. Random, positive check: for each positive edge coming from a playlist $p_i$, randomly draw a track $t_j$ from the full set of track nodes such that ($p_i$, $t_j$) is the negative edge. We ensure that ($p_i$, $t_j$) is not a positive edge. \n",
    "3. Hard: for each positive edge coming from a playlist $p_i$, randomly draw a track $t_j$ from the top $k$ proportion of tracks, ranked by dot product similarity to $p_i$. For epoch 0, $k = 1$ and we lower it at each subsequent iteration. "
   ]
  },
  {
   "cell_type": "code",
   "execution_count": null,
   "metadata": {},
   "outputs": [],
   "source": [
    "def sample_negative_edges_nocheck(data, num_playlists, num_tracks, device = None):\n",
    "  # note computationally inefficient to check that these are indeed negative edges\n",
    "  playlists = data.edge_label_index[0, :]\n",
    "  tracks = torch.randint(num_playlists, num_playlists + num_tracks - 1, size = data.edge_label_index[1, :].size())\n",
    "\n",
    "  if playlists.get_device() != -1: # on gpu \n",
    "    tracks = tracks.to(device)\n",
    "\n",
    "  neg_edge_index = torch.stack((playlists, tracks), dim = 0)\n",
    "  neg_edge_label = torch.zeros(neg_edge_index.shape[1])\n",
    "\n",
    "  if neg_edge_index.get_device() != -1: # on gpu \n",
    "    neg_edge_label = neg_edge_label.to(device)\n",
    "    \n",
    "  return neg_edge_index, neg_edge_label\n",
    "\n",
    "def sample_negative_edges(data, num_playlists, num_tracks, device=None):\n",
    "    neg_edge_index = None\n",
    "    neg_edge_label = None\n",
    "    return neg_edge_index, neg_edge_label\n",
    "\n",
    "def sample_hard_negative_edges(data, model, num_playlists, num_tracks, device=None, batch_size=500, frac_sample = 1):\n",
    "    neg_edges = None\n",
    "    neg_edge_label = None\n",
    "\n",
    "    return neg_edges, neg_edge_label"
   ]
  },
  {
   "attachments": {},
   "cell_type": "markdown",
   "metadata": {},
   "source": [
    "### Recall@K\n",
    "\n",
    "Using only a loss seems like a bad idea however. Most of the time it can be quite hard to interpret loss alone. So let's just also keep an eye on the Recall@K, a popular one for RecSys.\n",
    "For a playlist $i$, $P^k_i$ represents the set of the top $k$ predicted tracks for $i$ and $T_i$ the ground truth of connected tracks to playlist $i$, then we calculate \n",
    "$$\n",
    "\\text{recall}^k_i = \\frac{| P^k_i \\cap T_i | }{|T_i|}.\n",
    "$$\n",
    "If $T_i = 0$, then we assign this value to 1 (We don't really want to run into ZeroDivisionError). Note, if $T_i \\subset P_i^k$, then the recall is equal to 1. Hence, our choice of $k$ matters a lot. \n",
    "\n",
    "You'll probably want to try out multiple values of k but maybe you can start in the ballpark of 2-3% of the total tracks\n",
    "\n",
    "Note: When you evaluate this metric on the val or test set, make sure to filter the message passing edges from consideration, as the model can directly observe these.\n",
    "\n",
    "I'm implementing this for you as a freebie :)"
   ]
  },
  {
   "cell_type": "code",
   "execution_count": null,
   "metadata": {},
   "outputs": [],
   "source": [
    "def recall_at_k(data, model, k = 10000, batch_size = 64, device = None):\n",
    "    with torch.no_grad():\n",
    "        embeddings = model.get_embedding(data.edge_index)\n",
    "        playlists_embeddings = embeddings[:n_playlists]\n",
    "        tracks_embeddings = embeddings[n_playlists:]\n",
    "\n",
    "    hits_list = []\n",
    "    relevant_counts_list = []\n",
    "\n",
    "    for batch_start in range(0, n_playlists, batch_size):\n",
    "        batch_end = min(batch_start + batch_size, n_playlists)\n",
    "        batch_playlists_embeddings = playlists_embeddings[batch_start:batch_end]\n",
    "\n",
    "        # Calculate scores for all possible item pairs\n",
    "        scores = torch.matmul(batch_playlists_embeddings, tracks_embeddings.t())\n",
    "\n",
    "        # Set the scores of message passing edges to negative infinity\n",
    "        mp_indices = ((data.edge_index[0] >= batch_start) & (data.edge_index[0] < batch_end)).nonzero(as_tuple=True)[0]\n",
    "        scores[data.edge_index[0, mp_indices] - batch_start, data.edge_index[1, mp_indices] - n_playlists] = -float(\"inf\")\n",
    "\n",
    "        # Find the top k highest scoring items for each playlist in the batch\n",
    "        _, top_k_indices = torch.topk(scores, k, dim=1)\n",
    "\n",
    "        # Ground truth supervision edges\n",
    "        ground_truth_edges = data.edge_label_index\n",
    "\n",
    "        # Create a mask to indicate if the top k items are in the ground truth supervision edges\n",
    "        mask = torch.zeros(scores.shape, device=device, dtype=torch.bool)\n",
    "        gt_indices = ((ground_truth_edges[0] >= batch_start) & (ground_truth_edges[0] < batch_end)).nonzero(as_tuple=True)[0]\n",
    "        mask[ground_truth_edges[0, gt_indices] - batch_start, ground_truth_edges[1, gt_indices] - n_playlists] = True\n",
    "\n",
    "        # Check how many of the top k items are in the ground truth supervision edges\n",
    "        hits = mask.gather(1, top_k_indices).sum(dim=1)\n",
    "        hits_list.append(hits)\n",
    "\n",
    "        # Calculate the total number of relevant items for each playlist in the batch\n",
    "        relevant_counts = torch.bincount(ground_truth_edges[0, gt_indices] - batch_start, minlength=batch_end - batch_start)\n",
    "        relevant_counts_list.append(relevant_counts)\n",
    "\n",
    "    # Compute recall@k\n",
    "    hits_tensor = torch.cat(hits_list, dim=0)\n",
    "    relevant_counts_tensor = torch.cat(relevant_counts_list, dim=0)\n",
    "    # Handle division by zero case\n",
    "    recall_at_k = torch.where(\n",
    "        relevant_counts_tensor != 0,\n",
    "        hits_tensor.true_divide(relevant_counts_tensor),\n",
    "        torch.ones_like(hits_tensor)\n",
    "    )\n",
    "    # take average\n",
    "    recall_at_k = torch.mean(recall_at_k)\n",
    "\n",
    "    if recall_at_k.numel() == 1:\n",
    "        return recall_at_k.item()\n",
    "    else:\n",
    "        raise ValueError(\"recall_at_k contains more than one item.\")"
   ]
  },
  {
   "attachments": {},
   "cell_type": "markdown",
   "metadata": {},
   "source": [
    "### ROC AUC Score\n",
    "\n",
    "Finally, let's calculate the ROC AUC score for the binary predictions, which provides a measure of the efficiency of our model at distinguishing `true' track-playlist edges from non-existing ones. The higher this score, the better (a perfect score is achieved when ROC AUC = 1). This is done for you here - "
   ]
  },
  {
   "cell_type": "code",
   "execution_count": null,
   "metadata": {},
   "outputs": [],
   "source": [
    "def metrics(labels, preds):\n",
    "  roc = roc_auc_score(labels.flatten().cpu().numpy(), preds.flatten().data.cpu().numpy())\n",
    "  return roc "
   ]
  },
  {
   "attachments": {},
   "cell_type": "markdown",
   "metadata": {},
   "source": [
    "## Section 2 Training and Testing"
   ]
  },
  {
   "attachments": {},
   "cell_type": "markdown",
   "metadata": {},
   "source": [
    "Finally. It's time to write your train and test functions for training and evaluation."
   ]
  },
  {
   "cell_type": "code",
   "execution_count": null,
   "metadata": {},
   "outputs": [],
   "source": [
    "# Train\n",
    "def train(datasets, model, optimizer, loss_fn, args, neg_samp = \"random\"):\n",
    "  print(f\"Beginning training for {model.name}\")\n",
    "\n",
    "  train_data = None\n",
    "  val_data = None\n",
    "\n",
    "  stats = {\n",
    "      'train': {\n",
    "        'loss': [],\n",
    "        'roc' : []\n",
    "      },\n",
    "      'val': {\n",
    "        'loss': [],\n",
    "        'recall': [], \n",
    "        'roc' : []\n",
    "      }\n",
    "\n",
    "  }\n",
    "  val_neg_edge, val_neg_label = None, None\n",
    "  for epoch in range(args[\"epochs\"]): # loop over each epoch\n",
    "    # Is your model ready?\n",
    "    model.train()\n",
    "    optimizer.zero_grad()\n",
    "    \n",
    "    # Negative sample the data - different methods may need different code\n",
    "    neg_edge_index, neg_edge_label = None,None\n",
    "\n",
    "\n",
    "    # calculate embedding\n",
    "    embed = None\n",
    "    # calculate pos, negative scores using embedding\n",
    "    pos_scores = None\n",
    "    neg_scores = None\n",
    "\n",
    "    # concatenate pos, neg scores together and evaluate loss \n",
    "    scores = None\n",
    "    labels = None\n",
    "\n",
    "    # calculate loss function \n",
    "    if loss_fn == \"BCE\": \n",
    "      loss = None\n",
    "    elif loss_fn == \"BPR\":\n",
    "      loss = None\n",
    "    \n",
    "    train_roc = metrics(labels, scores)\n",
    "\n",
    "    # Learn from your mistakes\n",
    "    loss.backward()\n",
    "    optimizer.step()\n",
    "\n",
    "    # Test on the validation set\n",
    "    val_loss, val_roc, val_neg_edge, val_neg_label = test(None)\n",
    "\n",
    "    # I mean it'd be useless if you didn't even save the results\n",
    "    stats['train']['loss'].append(loss)\n",
    "    stats['train']['roc'].append(train_roc)\n",
    "    stats['val']['loss'].append(val_loss)\n",
    "    stats['val']['roc'].append(val_roc)\n",
    "\n",
    "    print(f\"Epoch {epoch}; Train loss {loss}; Val loss {val_loss}; Train ROC {train_roc}; Val ROC {val_roc}\")\n",
    "\n",
    "    if epoch % 10 == 0: \n",
    "      # calculate recall @ K - !ADJUST K!\n",
    "      val_recall = recall_at_k(val_data, model, k = 10000, device = args[\"device\"])\n",
    "      print(f\"Val recall {val_recall}\")\n",
    "      stats['val']['recall'].append(val_recall)\n",
    "\n",
    "  pickle.dump(stats, open(f\"model_stats/{model.name}_{loss_fn}_{neg_samp}.pkl\", \"wb\"))\n",
    "  return stats\n",
    "\n",
    "def test(model, data, loss_fn, neg_samp, epoch = 0, neg_edge_index = None, neg_edge_label = None):\n",
    "  \n",
    "  # I mean pretty similar now\n",
    "  # Is your model ready to evaluate?\n",
    "\n",
    "  with torch.no_grad(): # want to save RAM \n",
    "\n",
    "    # conduct negative sampling - different modes may need different code too\n",
    "    if neg_samp == \"random\":\n",
    "      neg_edge_index, neg_edge_label = None,None\n",
    "    # obtain model embedding\n",
    "    embed = None\n",
    "    # calculate pos, neg scores using embedding \n",
    "    pos_scores = None\n",
    "    neg_scores = None\n",
    "    # concatenate pos, neg scores together and evaluate loss \n",
    "    scores = None\n",
    "    labels = None\n",
    "    # calculate loss - BCE was the default loss, while BPR is the new loss\n",
    "    if loss_fn == \"BCE\": \n",
    "      loss = None\n",
    "    elif loss_fn == \"BPR\":\n",
    "      loss = None\n",
    "\n",
    "    roc = metrics(labels, scores)\n",
    "    \n",
    "  return loss, roc, neg_edge_index, neg_edge_label"
   ]
  },
  {
   "attachments": {},
   "cell_type": "markdown",
   "metadata": {},
   "source": [
    "### Arguments"
   ]
  },
  {
   "attachments": {},
   "cell_type": "markdown",
   "metadata": {},
   "source": [
    "Maybe put your splits in a dict for easy access?"
   ]
  },
  {
   "cell_type": "code",
   "execution_count": null,
   "metadata": {},
   "outputs": [],
   "source": [
    "datasets = {\n",
    "    'train':train_split, \n",
    "    'val':val_split, \n",
    "    'test': test_split \n",
    "}"
   ]
  },
  {
   "cell_type": "code",
   "execution_count": null,
   "metadata": {},
   "outputs": [],
   "source": [
    "training_args = {\n",
    "    'device' : 'cuda' if torch.cuda.is_available() else 'cpu',  # For the love of God, please do use a GPU though.\n",
    "    'num_layers' :  435345532551348923748,                      # Do you think this is a good choice?\n",
    "    'emb_size' : 64,\n",
    "    'weight_decay': 1e-5,\n",
    "    'lr': 0.01,\n",
    "    'epochs': 301\n",
    "}"
   ]
  },
  {
   "attachments": {},
   "cell_type": "markdown",
   "metadata": {},
   "source": [
    "### Model Initialisation\n",
    "Initialise your model with the parameters and nodes and whatever.\n",
    "\n",
    "The Adam optimizer should work just fine for the task, so initialise that well as well."
   ]
  },
  {
   "cell_type": "code",
   "execution_count": null,
   "metadata": {},
   "outputs": [],
   "source": [
    "# initialize model and and optimizer \n",
    "num_nodes = n_playlists + n_tracks\n",
    "model = GCN(None)\n",
    "optimizer = None"
   ]
  },
  {
   "attachments": {},
   "cell_type": "markdown",
   "metadata": {},
   "source": [
    "It's time to put this data on a GPU."
   ]
  },
  {
   "cell_type": "code",
   "execution_count": null,
   "metadata": {},
   "outputs": [],
   "source": [
    "playlists_idx = torch.Tensor(playlists_idx).type(torch.int64).to(training_args[\"device\"])\n",
    "tracks_idx =torch.Tensor(tracks_idx).type(torch.int64).to(training_args[\"device\"])\n",
    "datasets['train'].to(training_args['device'])\n",
    "datasets['val'].to(training_args['device'])\n",
    "datasets['test'].to(training_args['device'])\n",
    "model.to(training_args[\"device\"])"
   ]
  },
  {
   "attachments": {},
   "cell_type": "markdown",
   "metadata": {},
   "source": [
    "The below code defines the directory to store the epoch-wise stats of your model"
   ]
  },
  {
   "cell_type": "code",
   "execution_count": null,
   "metadata": {},
   "outputs": [],
   "source": [
    "# create directory to save model_stats\n",
    "MODEL_STATS_DIR = \"model_stats\"\n",
    "if not os.path.exists(MODEL_STATS_DIR):\n",
    "  os.makedirs(MODEL_STATS_DIR)"
   ]
  },
  {
   "attachments": {},
   "cell_type": "markdown",
   "metadata": {},
   "source": [
    "### Call train()"
   ]
  },
  {
   "cell_type": "code",
   "execution_count": null,
   "metadata": {},
   "outputs": [],
   "source": [
    "train(datasets, model, optimizer, \"BPR\", training_args, neg_samp = \"random\")"
   ]
  },
  {
   "attachments": {},
   "cell_type": "markdown",
   "metadata": {},
   "source": [
    "### Call test()"
   ]
  },
  {
   "cell_type": "code",
   "execution_count": null,
   "metadata": {},
   "outputs": [],
   "source": [
    "test(model, datasets['test'], \"BPR\", neg_samp = \"random\")"
   ]
  },
  {
   "attachments": {},
   "cell_type": "markdown",
   "metadata": {},
   "source": [
    "### Pipeline Simplification\n",
    "\n",
    "Instead of having to call everything one by one, let's package this training process into a pipeline"
   ]
  },
  {
   "cell_type": "code",
   "execution_count": null,
   "metadata": {},
   "outputs": [],
   "source": [
    "def init_model(conv_layer, args, alpha = False):\n",
    "  num_nodes = n_playlists + n_tracks\n",
    "  model = GCN(None)\n",
    "  model.to(args[\"device\"])\n",
    "  optimizer = None\n",
    "  return model, optimizer "
   ]
  },
  {
   "cell_type": "code",
   "execution_count": null,
   "metadata": {},
   "outputs": [],
   "source": [
    "## For example:\n",
    "\n",
    "# using BPR loss\n",
    "loss_fn = \"BPR\"\n",
    "\n",
    "# using hard sampling\n",
    "neg_samp = \"hard\"\n",
    "\n",
    "# Num epochs, layers, etc.\n",
    "training_args['epochs'] = 301\n",
    "training_args['num_layers'] = 4\n",
    "model, optimizer = init_model(\"LGC\", training_args)\n",
    "lgc_stats_hard = train(datasets, model, optimizer, loss_fn, training_args, neg_samp = neg_samp)\n",
    "torch.save(model.state_dict(), f\"model_stats/{model.name}_{loss_fn}_{neg_samp}.pt\")"
   ]
  },
  {
   "attachments": {},
   "cell_type": "markdown",
   "metadata": {},
   "source": [
    "### Tuning\n",
    "\n",
    "Use the simplified pipeline to train a couple of combinations of the model - changing the following variables (Do atleast 3 of each)\n",
    "\n",
    "1. Negative Sampling Method (You should have 3 of them)\n",
    "2. Number of Layers (<10 always)\n",
    "3. Number of Epochs (vary by 100 atleast)\n",
    "\n",
    "Be sure to save the results into different files. We'll use them in the next section to visualise better"
   ]
  },
  {
   "cell_type": "code",
   "execution_count": null,
   "metadata": {},
   "outputs": [],
   "source": [
    "# If you had to stop for whatever reason, you can always reload the stats here! (just uncomment and change to correct paths)\n",
    "# lgc_stats = pickle.load(open(f\"{MODEL_STATS_DIR}/LGCN_LGC_4_e64_nodes34810__BPR_random.pkl\", \"rb\"))\n",
    "# lgc_stats_hard = pickle.load(open(f\"{MODEL_STATS_DIR}/LGCN_LGC_4_e64_nodes34810__BPR_hard.pkl\", \"rb\"))"
   ]
  },
  {
   "attachments": {},
   "cell_type": "markdown",
   "metadata": {},
   "source": [
    "## Section 3 - Training Visualisation\n",
    "Phew. The hard part is done. But let's visualise this data better.\n",
    "\n",
    "Write up code to plot the training and validation losses over epochs"
   ]
  },
  {
   "cell_type": "code",
   "execution_count": null,
   "metadata": {},
   "outputs": [],
   "source": [
    "def plot_train_val_loss(stats_dict):\n",
    "    # plt.show()\n",
    "    return None"
   ]
  },
  {
   "attachments": {},
   "cell_type": "markdown",
   "metadata": {},
   "source": [
    "Now pass each of the different stats dict and plot the graphs - label them accordingly."
   ]
  },
  {
   "cell_type": "code",
   "execution_count": null,
   "metadata": {},
   "outputs": [],
   "source": []
  },
  {
   "attachments": {},
   "cell_type": "markdown",
   "metadata": {},
   "source": [
    "Plot a single graph to show the different Loss/Epoch graphs between the 3 different types of negative sampling methods"
   ]
  },
  {
   "cell_type": "code",
   "execution_count": null,
   "metadata": {},
   "outputs": [],
   "source": []
  },
  {
   "attachments": {},
   "cell_type": "markdown",
   "metadata": {},
   "source": [
    "Plot a single graph to show Recall@K/Epoch for the 3 different types of negative sampling methods"
   ]
  },
  {
   "cell_type": "code",
   "execution_count": null,
   "metadata": {},
   "outputs": [],
   "source": []
  },
  {
   "attachments": {},
   "cell_type": "markdown",
   "metadata": {},
   "source": [
    "Do the same thing for number of layers - both BPR Loss and Recall@K"
   ]
  },
  {
   "cell_type": "code",
   "execution_count": null,
   "metadata": {},
   "outputs": [],
   "source": []
  },
  {
   "attachments": {},
   "cell_type": "markdown",
   "metadata": {},
   "source": [
    "What can you conclude about the hyperparameters for the best possible model?"
   ]
  },
  {
   "attachments": {},
   "cell_type": "markdown",
   "metadata": {},
   "source": [
    "\\<Answer Here\\>"
   ]
  },
  {
   "attachments": {},
   "cell_type": "markdown",
   "metadata": {},
   "source": [
    "# Section 4 - (Bonus) Embedding Visualisation\n",
    "\n",
    "- This section is for bonus points. We'll use a manifold projection technique to visualise the embeddings. (You could also use other methods like PCA for example)\n",
    "\n",
    "- The way this works is that we use dimensionality reduction to capture the most useful things the model learns in just 3 dimensions.\n",
    "\n",
    "- UMAP is a library that will help you with this. You will pass in your high-dimensional embeddings to a function you can find from[UMAP Docs](https://umap-learn.readthedocs.io/en/latest/) and it will return 3-dimensional embeddings.\n",
    "\n",
    "- We'll plot the embedding states of your model as it trains, every 10 epochs. This was the use of saving the states every 10 epochs in your training and testing code. This utilises the animation submodule of matplotlib, `matplotlib.animation`\n",
    "\n"
   ]
  },
  {
   "cell_type": "code",
   "execution_count": null,
   "metadata": {},
   "outputs": [],
   "source": [
    "# Imports specifc to visualizations\n",
    "import matplotlib.animation as animation\n",
    "import umap\n",
    "from IPython import display\n",
    "from math import floor, ceil"
   ]
  },
  {
   "attachments": {},
   "cell_type": "markdown",
   "metadata": {},
   "source": [
    "### Dimensionality Reduction using UMAP"
   ]
  },
  {
   "cell_type": "code",
   "execution_count": null,
   "metadata": {},
   "outputs": [],
   "source": [
    "# Reduce 64-dim embeddings to 3-dim using umap\n",
    "umap_embs = [] # dimensionally reduced embeddings\n",
    "epoch_str = [] # what epoch produced the embeddings\n",
    "\n",
    "# Directory contianing the selected model embeddings\n",
    "model_dir = \"model_path/your_directory_name\"\n",
    "\n",
    "for filename in tqdm(sorted(os.listdir(join(os.getcwd(), model_dir)),\n",
    "                       key=lambda name: int(name[:-3].split('_')[-1]))):\n",
    "  embs = torch.load(join(os.getcwd(), model_dir, filename), map_location=torch.device('cpu')).detach().cpu().numpy()\n",
    "  embs = embs[:n_playlists]\n",
    "  u = None # Do Something\n",
    "  umap_embs.append(u)\n",
    "  epoch_str.append(filename[:-3].split('_')[-1])"
   ]
  },
  {
   "attachments": {},
   "cell_type": "markdown",
   "metadata": {},
   "source": [
    "### Prep to Plot\n",
    "Now we need to pass these to our plotting library, which needs the dimensions separately. \n",
    "\n",
    "`extract_dim(dim)` will return the values for a single dimension `dim`\n",
    "\n",
    "`compute_min_max(dim,h)` should return the limits of the values on a dimension. Automatic detection by matplotlib may lead to poorly scaled graphs."
   ]
  },
  {
   "cell_type": "code",
   "execution_count": null,
   "metadata": {},
   "outputs": [],
   "source": [
    "# Separate the embeddings dimensions for plotting\n",
    "n = len(umap_embs)\n",
    "n_emb = len(umap_embs[0])\n",
    "\n",
    "def extract_dim(dim):\n",
    "  \"\"\"Given a dim index, return just that dim of umap_embs\"\"\"\n",
    "  return [None]\n",
    "\n",
    "x = extract_dim(0)\n",
    "y = extract_dim(1)\n",
    "z = extract_dim(2)\n",
    "\n",
    "def compute_min_max(dim):\n",
    "  \"\"\"Given a dim index, compute dim limits\"\"\"\n",
    "  return None,None"
   ]
  },
  {
   "attachments": {},
   "cell_type": "markdown",
   "metadata": {},
   "source": [
    "### Time to plot"
   ]
  },
  {
   "attachments": {},
   "cell_type": "markdown",
   "metadata": {},
   "source": [
    "Complete this function that will plot and update the visualisation of the embeddings over time"
   ]
  },
  {
   "cell_type": "code",
   "execution_count": null,
   "metadata": {},
   "outputs": [],
   "source": [
    "def plot_embeddings(select_idx=None, color=None):\n",
    "  \"\"\"\n",
    "  Plot the playlist embeddings.\n",
    "  Optional parameters: select_idx, color are the selected\n",
    "  indices to plot and the associated color mappings\n",
    "  \"\"\"\n",
    "  # Indecies of embeddings - There are other ways to do it\n",
    "  idx = [None]\n",
    "  \n",
    "  # Set up plot\n",
    "  fig = plt.figure(figsize = (10, 10))\n",
    "  subplt = plt.axes(projection =\"3d\")\n",
    "\n",
    "  # Initialize the scatter plot\n",
    "  my_sct = subplt.scatter(x[idx[0]], y[idx[0]], z[idx[0]],\n",
    "                          alpha = 0.8, marker ='o')\n",
    "  # Set axis limit\n",
    "  subplt.set_xlim(compute_min_max(x))\n",
    "  subplt.set_xlabel('x')\n",
    "  subplt.set_ylim(compute_min_max(y))\n",
    "  subplt.set_xlabel('y')\n",
    "  subplt.set_zlim(compute_min_max(z))\n",
    "  subplt.set_xlabel('z')\n",
    "\n",
    "  # Define animation update funcion\n",
    "  def update(itr, xa, ya, za, t):\n",
    "    i = idx[itr]\n",
    "    subplt.set_title('Embedding Epoch: ' + epoch_str[i])\n",
    "    xyz = None\n",
    "    my_sct._offsets3d = xyz\n",
    "    return my_sct\n",
    "\n",
    "  # Create animation\n",
    "  ani = animation.FuncAnimation(fig, update,\n",
    "                                fargs=(x, y, z),\n",
    "                                interval=500,\n",
    "                                save_count=len(idx))\n",
    "  video = ani.to_html5_video()\n",
    "  html = display.HTML(video)\n",
    "  display.display(html)\n",
    "  plt.close()"
   ]
  },
  {
   "attachments": {},
   "cell_type": "markdown",
   "metadata": {},
   "source": [
    "# End\n",
    "\n",
    "And that's it! You could go one step further by poking around this data and plotting artists in different colours, to see if the embeddings are separating out artists whose styles don't match. We aren't grading you for that however. \n",
    "\n",
    "Hopefully you had some fun with this exercise. You could try running your model on newer Spotify data and seeing what happens. Maybe if you built an inference function you could also test it on your own playlists. \n",
    "\n",
    "Traditional ML architechture struggles to handle these kinds of tasks, as the data is related in a graphical structure and the data itself is a complex sequence which would be hard to analyse to generate embeddings for this use case. The upcoming topics will see us build even more on this idea, scaling your models for far larger datasets, poking around the internals of a GNN Model and the power of message passing."
   ]
  },
  {
   "attachments": {},
   "cell_type": "markdown",
   "metadata": {},
   "source": [
    "***\n",
    "***"
   ]
  }
 ],
 "metadata": {
  "kernelspec": {
   "display_name": "gdl",
   "language": "python",
   "name": "python3"
  },
  "language_info": {
   "codemirror_mode": {
    "name": "ipython",
    "version": 3
   },
   "file_extension": ".py",
   "mimetype": "text/x-python",
   "name": "python",
   "nbconvert_exporter": "python",
   "pygments_lexer": "ipython3",
   "version": "3.8.16"
  },
  "orig_nbformat": 4
 },
 "nbformat": 4,
 "nbformat_minor": 2
}
