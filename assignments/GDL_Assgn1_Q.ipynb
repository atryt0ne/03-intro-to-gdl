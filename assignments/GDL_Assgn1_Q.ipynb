{
  "cells": [
    {
      "attachments": {},
      "cell_type": "markdown",
      "metadata": {
        "id": "GA_QZ9OBsVmx"
      },
      "source": [
        "***\n",
        "***\n",
        "\n",
        "# Assignment 1 - Introduction to PyG\n",
        "\n",
        "This assignment will test basic control over the PyG and NetworkX module which are commonly used to implement Geometric Deep Learning."
      ]
    },
    {
      "attachments": {},
      "cell_type": "markdown",
      "metadata": {
        "id": "_zo43o6LuOUv"
      },
      "source": [
        "## Some Setup"
      ]
    },
    {
      "cell_type": "code",
      "execution_count": 39,
      "metadata": {
        "colab": {
          "background_save": true,
          "base_uri": "https://localhost:8080/"
        },
        "id": "P1ApG3wruxM4",
        "outputId": "bba78945-35de-43f1-c009-8f2331acd97a"
      },
      "outputs": [
        {
          "name": "stdout",
          "output_type": "stream",
          "text": [
            "1.12.1\n"
          ]
        }
      ],
      "source": [
        "# Install required packages. \n",
        "import os\n",
        "import torch\n",
        "os.environ['TORCH'] = torch.__version__\n",
        "print(torch.__version__)\n"
      ]
    },
    {
      "cell_type": "code",
      "execution_count": 40,
      "metadata": {
        "colab": {
          "background_save": true
        },
        "id": "ksTjl8veyes4"
      },
      "outputs": [],
      "source": [
        "# Helper function for visualization.\n",
        "%matplotlib inline\n",
        "import networkx as nx\n",
        "import matplotlib.pyplot as plt\n",
        "\n",
        "\n",
        "def visualize_graph(G):\n",
        "    plt.figure(figsize=(7,7))\n",
        "    plt.xticks([])\n",
        "    plt.yticks([])\n",
        "    nx.draw_networkx(G, pos=nx.spring_layout(G, seed=42), with_labels=True,\n",
        "                     cmap=\"Set3\")\n",
        "    plt.show()"
      ]
    },
    {
      "cell_type": "code",
      "execution_count": 41,
      "metadata": {
        "colab": {
          "background_save": true
        },
        "id": "ZxuREWNlvV7P"
      },
      "outputs": [],
      "source": [
        "import numpy as np\n",
        "import torch\n",
        "import matplotlib.pyplot as plt\n",
        "from matplotlib import colors\n",
        "plt.rcParams.update({'font.size': 16})"
      ]
    },
    {
      "attachments": {},
      "cell_type": "markdown",
      "metadata": {
        "id": "D_4IBYjxsjpY"
      },
      "source": [
        "***\n",
        "\n",
        "## Section 1 - Graph Creation (5 points)"
      ]
    },
    {
      "attachments": {},
      "cell_type": "markdown",
      "metadata": {
        "id": "_8vlgmABt262"
      },
      "source": [
        "### Question 1.1 (2 points)\n",
        "Create the following graph in PyG. The numbers inside the squares are both the ID and the values stored in the notes. This is a directed graph, with only 1 edge being undirected. Feel free to use any method to generate this, as long as the resulting Data object is the same.\n"
      ]
    },
    {
      "attachments": {},
      "cell_type": "markdown",
      "metadata": {
        "id": "XCricLAOtyYF"
      },
      "source": [
        "![image.png](data:image/png;base64,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)"
      ]
    },
    {
      "cell_type": "code",
      "execution_count": 42,
      "metadata": {
        "id": "mQoSgTYQsRPc"
      },
      "outputs": [],
      "source": [
        "import torch\n",
        "from torch_geometric.data import Data\n",
        "\n",
        "##################################################\n",
        "# Your Code Here\n",
        "\n",
        "\n",
        "data = None\n",
        "##################################################"
      ]
    },
    {
      "attachments": {},
      "cell_type": "markdown",
      "metadata": {
        "id": "APMM_KyDxHOm"
      },
      "source": [
        "### Question 1.2 (1 point)\n",
        "Complete the code to visualise the graph using the utilities module of PyG to make a networkx Graph object which can be drawn using the draw_networkx function. The helper function visualize_graph takes the name of your object as the parameter, along with a color parameter that you can choose as per your will."
      ]
    },
    {
      "cell_type": "code",
      "execution_count": 43,
      "metadata": {
        "id": "vyngFlnzw_yU"
      },
      "outputs": [
        {
          "data": {
            "image/png": "[encoded data removed]",
            "text/plain": [
              "<Figure size 700x700 with 1 Axes>"
            ]
          },
          "metadata": {},
          "output_type": "display_data"
        }
      ],
      "source": [
        "from torch_geometric.utils import to_networkx\n",
        "\n",
        "###############################################\n",
        "# Your Code Here\n",
        "G = nx.Graph()\n",
        "###############################################\n",
        "visualize_graph(G)"
      ]
    },
    {
      "attachments": {},
      "cell_type": "markdown",
      "metadata": {
        "id": "FQQvt05cjvvW"
      },
      "source": [
        "### Question 1.3 (2 points)\n",
        "\n",
        "It seems like I made a mistake when creating the graph above. Modify the same graph to add these features in. You can make the changes to the networkx object itself - \n",
        "\n",
        "\n",
        "*   A node with id 5\n",
        "*   An edge starting from 1 going to 5\n",
        "*   An edge starting from 5 going to 0\n",
        "*   A two-way edge between 2 and 5"
      ]
    },
    {
      "cell_type": "code",
      "execution_count": 44,
      "metadata": {
        "id": "O-QPdXfbjwp4"
      },
      "outputs": [],
      "source": [
        "############################\n",
        "# Your Code Here\n",
        "\n",
        "############################"
      ]
    },
    {
      "attachments": {},
      "cell_type": "markdown",
      "metadata": {
        "id": "xEQu3zMXku7j"
      },
      "source": [
        "Run the below cell to visualize your graph"
      ]
    },
    {
      "cell_type": "code",
      "execution_count": 45,
      "metadata": {
        "id": "DWG5iQyvkxu3"
      },
      "outputs": [
        {
          "data": {
            "image/png": "[encoded data removed]",
            "text/plain": [
              "<Figure size 700x700 with 1 Axes>"
            ]
          },
          "metadata": {},
          "output_type": "display_data"
        }
      ],
      "source": [
        "visualize_graph(G)"
      ]
    },
    {
      "attachments": {},
      "cell_type": "markdown",
      "metadata": {
        "id": "5DXm7or9zISS"
      },
      "source": [
        "***\n",
        "\n",
        "## Section 2 - Graph Properties and Manipulation (15 points)\n",
        "\n",
        "The questions in this section are based on the MUTAG dataset imported below. For each question, write code that can return out the desired property of the graph\n",
        "\n"
      ]
    },
    {
      "cell_type": "code",
      "execution_count": 46,
      "metadata": {
        "id": "z1ISeJ0Bxf5T"
      },
      "outputs": [],
      "source": [
        "from torch_geometric.datasets import TUDataset\n",
        "\n",
        "mutag_datasets = TUDataset(root='/tmp/PROTEINS', name='PROTEINS')\n",
        "mutag = mutag_datasets[0]"
      ]
    },
    {
      "attachments": {},
      "cell_type": "markdown",
      "metadata": {
        "id": "NdhKlDo_0J8L"
      },
      "source": [
        "### Question 2.1 (2 points)\n",
        "Fill out this function that can return a tuple containing the simple properties of this graph - number of nodes (int), edges (int), node features (int), and directedness (bool), as a tuple -\n",
        "\n",
        "`(#nodes, #edges, #features, directedness)`"
      ]
    },
    {
      "cell_type": "code",
      "execution_count": 47,
      "metadata": {
        "colab": {
          "base_uri": "https://localhost:8080/"
        },
        "id": "jS6apWqzz6o_",
        "outputId": "01cc8b4f-263d-4183-91f0-659223880e30"
      },
      "outputs": [
        {
          "data": {
            "text/plain": [
              "(None, None, None, None)"
            ]
          },
          "execution_count": 47,
          "metadata": {},
          "output_type": "execute_result"
        }
      ],
      "source": [
        "def get_basic_chars(dataset):\n",
        "  ################################################\n",
        "  ### Your Code Here\n",
        "  nodes  = None\n",
        "  edges = None\n",
        "  features = None\n",
        "  drtds = None\n",
        "  ################################################\n",
        "  chars = (nodes,edges,features,drtds)\n",
        "  return chars\n",
        "\n",
        "get_basic_chars(mutag)"
      ]
    },
    {
      "attachments": {},
      "cell_type": "markdown",
      "metadata": {
        "id": "V6_i7Mmf2yvB"
      },
      "source": [
        "### Question 2.2 (1 point)\n",
        "Does this graph have any self loops? What about isolated nodes?"
      ]
    },
    {
      "cell_type": "code",
      "execution_count": 48,
      "metadata": {
        "colab": {
          "base_uri": "https://localhost:8080/"
        },
        "id": "Gf9kh2QEz9t0",
        "outputId": "f65e00ef-3b3a-4ee0-a539-735d9aee5933"
      },
      "outputs": [
        {
          "name": "stdout",
          "output_type": "stream",
          "text": [
            "Does this graph have self loops? None\n",
            "Does this graph have isolated nodes? None\n"
          ]
        }
      ],
      "source": [
        "def addn_props(dataset):\n",
        "  #############################################\n",
        "  # Your Code Here\n",
        "  self_obsessed = None\n",
        "  loners = None\n",
        "  #############################################\n",
        "  return (self_obsessed, loners)\n",
        "\n",
        "addn_props = addn_props(mutag)\n",
        "print(f'Does this graph have self loops? {addn_props[0]}')\n",
        "print(f'Does this graph have isolated nodes? {addn_props[1]}')"
      ]
    },
    {
      "attachments": {},
      "cell_type": "markdown",
      "metadata": {},
      "source": [
        "Let's convert this PyG object to a NetworkX object for some more advanced calculations."
      ]
    },
    {
      "cell_type": "code",
      "execution_count": 49,
      "metadata": {
        "id": "VU26NEk0p41O"
      },
      "outputs": [],
      "source": [
        "from torch_geometric.utils import to_networkx\n",
        "\n",
        "G = to_networkx(mutag,to_undirected=True)"
      ]
    },
    {
      "attachments": {},
      "cell_type": "markdown",
      "metadata": {
        "id": "x8dFJY3Ap91p"
      },
      "source": [
        "### Question 2.3 (2 points)\n",
        "Compute the average degree of this network, rounded to the nearest integer."
      ]
    },
    {
      "cell_type": "code",
      "execution_count": 50,
      "metadata": {
        "id": "yffY4R_mp9E7"
      },
      "outputs": [
        {
          "name": "stdout",
          "output_type": "stream",
          "text": [
            "Average degree of MUTAG is None\n"
          ]
        }
      ],
      "source": [
        "def avg_degree(G):\n",
        "  ######################################\n",
        "  # Your Code Here\n",
        "\n",
        "  avg_deg = None\n",
        "  ######################################\n",
        "  return avg_deg\n",
        "\n",
        "avg_deg = avg_degree(G)\n",
        "print(f'Average degree of MUTAG is {avg_deg}')"
      ]
    },
    {
      "attachments": {},
      "cell_type": "markdown",
      "metadata": {
        "id": "awWcz5MEgvZf"
      },
      "source": [
        "### Question 2.3 (2 points)\n",
        "\n",
        "Randomly split this dataset into train-val-test sets in the ratio 75-15-10, ie. 75% training, 15% validation, 10% testing.\n",
        "\n",
        "**Note**: The dataset is split into a different train-val-test ratio already, you'll have to combine them and resplit them again to get the desired split."
      ]
    },
    {
      "cell_type": "code",
      "execution_count": 51,
      "metadata": {
        "colab": {
          "base_uri": "https://localhost:8080/",
          "height": 165
        },
        "id": "0WgzcJoRhmPN",
        "outputId": "cc809f5e-19b2-49a9-e6e2-1046bb31440f"
      },
      "outputs": [],
      "source": [
        "########################################\n",
        "### Your Code Here\n",
        "\n",
        "\n",
        "train,val,test = None,None,None\n",
        "########################################"
      ]
    },
    {
      "attachments": {},
      "cell_type": "markdown",
      "metadata": {
        "id": "e4ZUurH-nTje"
      },
      "source": [
        "### Question 2.4 (8 points)\n",
        "\n",
        "Reference on small-world networks - [Small-world network](https://www.wikiwand.com/en/Small-world_network)\n",
        "\n",
        "1. Calculate the sigma and omega coefficients for small-worldness by directly calling the inbuilt library functions of networkx\n",
        "2. Calculate the sigma and omega coefficients for small-worldness by finding the values of c, c_r, l, l_r, c_l etc.\n",
        "3. Time both the methods and compare the time taken. Is it taking too long? Try calculating the average clustering coefficient yourself from the dictionary obtained by clustering, does that help? Why? \n",
        "\n",
        "> Bonus : Explanation for the improvement in time when calculating average manually. Explanation for why the values computed manually and by the library don't match (2+2 points)\n"
      ]
    },
    {
      "cell_type": "code",
      "execution_count": 52,
      "metadata": {
        "id": "CJqaKU9OmhlJ"
      },
      "outputs": [
        {
          "name": "stdout",
          "output_type": "stream",
          "text": [
            "Direct Sigma Coefficient: None\n",
            "Direct Omega Coefficient: None\n",
            "Time for Direct Method: None\n",
            "Conv Sigma Coefficient: None\n",
            "Conv Omega Coefficient: None\n",
            "Time for Conv Method: None\n"
          ]
        }
      ],
      "source": [
        "import time\n",
        "\n",
        "######################################################\n",
        "# Your Code Here - Direct Method\n",
        "sigma = None\n",
        "omega = None\n",
        "direct_time = None\n",
        "######################################################\n",
        "\n",
        "\n",
        "def calc_sig_omg(G):\n",
        "  ####################################################\n",
        "  # Your Code Here - Manual Method\n",
        "  c = None\n",
        "  l = None\n",
        "  R = None\n",
        "  L = None\n",
        "  c_L = None\n",
        "  c_R = None\n",
        "  l_L = None\n",
        "  l_R = None\n",
        "  sig = None\n",
        "  omg = None\n",
        "  man_time = None\n",
        "  ####################################################\n",
        "  return (sig,omg,man_time)\n",
        "\n",
        "\n",
        "sig, omg, man_time = calc_sig_omg(G)\n",
        "\n",
        "\n",
        "print(f'Direct Sigma Coefficient: {sigma}')\n",
        "print(f'Direct Omega Coefficient: {omega}')\n",
        "print(f'Time for Direct Method: {direct_time}')\n",
        "print(f'Conv Sigma Coefficient: {sig}')\n",
        "print(f'Conv Omega Coefficient: {omg}')\n",
        "print(f'Time for Conv Method: {man_time}')\n"
      ]
    },
    {
      "attachments": {},
      "cell_type": "markdown",
      "metadata": {
        "id": "N0heeIbqpnyB"
      },
      "source": [
        "***\n",
        "\n",
        "## Section 3 - The Clustering Coefficient (10 points)\n",
        "This section is theoretical, you need to submit a proof/derivation/expression for each question as stated. \n",
        "\n",
        "> Bonus: Taking the effort to use LaTeX/any good typesetting in your derivation will get you a bonus 5 points for Q3"
      ]
    },
    {
      "attachments": {},
      "cell_type": "markdown",
      "metadata": {
        "id": "9MO_jKG5pFBD"
      },
      "source": [
        "You have already seen the global clustering coefficient in action in the lecture slides. Let's now however talk about the local clustering coefficient. The local clustering coefficient for a vertex is the proportion of links between the vertices of its neighbourhood divided by the number of links that could possibly exist between them. \n",
        "\n",
        "We define a **wedge** as an ordered triplet of edges, which share exactly one common node, called the centre of the wedge.\n",
        "We call a wedge complete if the edge between the two ends of the wedge exist, completing the triangle.\n",
        "\n",
        "We denote the degree of vertex $i$ by $k_i$.\n",
        "\n",
        "You may have noticed by now that we can probably define the clustering coefficient in terms of $k_i$ and the adjacency matrix of the graph $A$. Your first task - \n"
      ]
    },
    {
      "attachments": {},
      "cell_type": "markdown",
      "metadata": {
        "id": "Tf4F6TJRumH1"
      },
      "source": [
        "#### Q3.1 Derive an expression for the local clustering coefficient $C_i$ of a vertex $i$ for an undirected graph in terms of the adjacency matrix $A$ and $k_i$. (3 points)"
      ]
    },
    {
      "attachments": {},
      "cell_type": "markdown",
      "metadata": {
        "id": "LP50VcATvwTT"
      },
      "source": [
        "#### Ans: Your Answer Here"
      ]
    },
    {
      "attachments": {},
      "cell_type": "markdown",
      "metadata": {
        "id": "gFP-E1bPuxEF"
      },
      "source": [
        "The global clustering coefficient based on this concept of a wedge would simply be the fraction of closed wedges in the entire network.\n",
        "#### Q3.2 Derive the expression to calculate the global clustering coefficient $C$ of the entire network. (4 points)\n",
        "\n",
        "> Assume naturally, that the network only has finitely many nodes."
      ]
    },
    {
      "attachments": {},
      "cell_type": "markdown",
      "metadata": {
        "id": "r77meqIHv1Fq"
      },
      "source": [
        "#### Ans: Your Answer Here"
      ]
    },
    {
      "attachments": {},
      "cell_type": "markdown",
      "metadata": {
        "id": "FxKEj6IovE6n"
      },
      "source": [
        "Finally let's turn this concept on its head. Instead of measuring the local clustering coefficient in terms of closed wedges on a centre, we'll measure about the head (or end) of the wedge.\n",
        "\n",
        "Define the **back-in-2 coefficient, $Bi_2(i)$** as the fraction of wedges, *headed* at $i$ that are closed.\n",
        "#### Q3.3 Write down the expression for the $Bi_2$ coefficient of a vertex $i$ in terms of adjacency matrices only (3 points)"
      ]
    },
    {
      "attachments": {},
      "cell_type": "markdown",
      "metadata": {
        "id": "PSjWDGZRv3L9"
      },
      "source": [
        "#### Ans: Your Answer Here"
      ]
    },
    {
      "attachments": {},
      "cell_type": "markdown",
      "metadata": {
        "id": "bpgTvjNNsKi5"
      },
      "source": [
        "> ### Bonus: Find the more common standard name for the Bi_2 coefficient. (2 points)"
      ]
    },
    {
      "attachments": {},
      "cell_type": "markdown",
      "metadata": {
        "id": "Xi78SCHqsbjO"
      },
      "source": [
        "#### Ans: Your Answer Here"
      ]
    },
    {
      "attachments": {},
      "cell_type": "markdown",
      "metadata": {},
      "source": [
        "***\n",
        "***"
      ]
    }
  ],
  "metadata": {
    "colab": {
      "collapsed_sections": [
        "_zo43o6LuOUv",
        "D_4IBYjxsjpY",
        "N0heeIbqpnyB",
        "9MO_jKG5pFBD",
        "bpgTvjNNsKi5"
      ],
      "provenance": []
    },
    "kernelspec": {
      "display_name": "Python 3",
      "name": "python3"
    },
    "language_info": {
      "codemirror_mode": {
        "name": "ipython",
        "version": 3
      },
      "file_extension": ".py",
      "mimetype": "text/x-python",
      "name": "python",
      "nbconvert_exporter": "python",
      "pygments_lexer": "ipython3",
      "version": "3.8.16"
    }
  },
  "nbformat": 4,
  "nbformat_minor": 0
}
